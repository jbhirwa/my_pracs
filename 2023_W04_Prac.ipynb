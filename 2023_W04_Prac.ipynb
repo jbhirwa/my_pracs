{
 "cells": [
  {
   "cell_type": "markdown",
   "metadata": {},
   "source": [
    "# COMP SCI 1015 IAP - W04 - Practical"
   ]
  },
  {
   "cell_type": "markdown",
   "metadata": {},
   "source": [
    "## Task 1 - Price range (30 marks)"
   ]
  },
  {
   "cell_type": "markdown",
   "metadata": {},
   "source": [
    "Assume we you are purchasing a laptop for the school. The school has decided the `lower` and `upper` limits of the purchase.\n",
    "\n",
    "Please implement a function `purchase()` that takes three parameters `lower`, `upper` and `laptop_cost` and decide wheather the proposed laptop is `too expensive`, `too cheap`, or `acceptable`.\n",
    "\n",
    "The function should return one of the following strings: `too cheap`, `too expensive`, or `acceptable`."
   ]
  },
  {
   "cell_type": "code",
   "execution_count": 2,
   "metadata": {
    "tags": []
   },
   "outputs": [
    {
     "name": "stdout",
     "output_type": "stream",
     "text": [
      "acceptable\n",
      "too expensive\n"
     ]
    }
   ],
   "source": [
    "def purchase(lower, upper, laptop_cost):\n",
    "    # INSERT YOUR CODE BELOW\n",
    "    if (laptop_cost > upper):\n",
    "        return(\"too expensive\")\n",
    "    elif (laptop_cost < lower):\n",
    "        return(\"Too cheap\")\n",
    "    else:\n",
    "        return(\"acceptable\")\n",
    "\n",
    "# ================\n",
    "# TEST CASES BELOW\n",
    "s = purchase(500, 1000, 800) # return 'acceptable'\n",
    "print(s)\n",
    "s = purchase(1000, 1500, 2000) # return 'too expensive'\n",
    "print(s)"
   ]
  },
  {
   "cell_type": "markdown",
   "metadata": {},
   "source": [
    "## Task 2 - Estimate Pi (30 marks)"
   ]
  },
  {
   "cell_type": "markdown",
   "metadata": {},
   "source": [
    "The Indian Mathematician [Srinivasa Ramanujan](https://en.wikipedia.org/wiki/Srinivasa_Ramanujan) discovered that the following infinite series could be used to approximate $1/\\pi$. His series is the basis of one of the fastest algorithms for approximating $\\pi$.\n",
    "\n",
    "$\\frac{2\\sqrt{2}}{9801}\\sum_{k=0}^{\\infty}\\frac{(4k)!(1103+26390k)}{(k!)^{4}396^{4k}}=\\frac{1}{\\pi}$\n",
    "\n",
    "Please complete the implementation of the `estimate_pi(n)`. As computing $\\sum_{k=0}^{\\infty}$ would take infinite time, instead you will be looking at: $\\sum_{k=0}^{n}$"
   ]
  },
  {
   "cell_type": "code",
   "execution_count": 6,
   "metadata": {
    "tags": []
   },
   "outputs": [
    {
     "name": "stdout",
     "output_type": "stream",
     "text": [
      "est_pi: 3.141592730013306 pi: 3.141592653589793\n",
      "est_pi: 3.141592653589793 pi: 3.141592653589793\n"
     ]
    }
   ],
   "source": [
    "import math\n",
    "\n",
    "def estimate_pi(n):\n",
    "    '''print the estimated pi value '''\n",
    "    s = 0\n",
    "    k = 0\n",
    "    # INSERT YOUR CODE BELOW\n",
    "    # ~ 6 lines\n",
    "    while k <= n:\n",
    "        term = (math.factorial(4*k)*(1103+26390*k)) / ((math.factorial(k)**4) * 396**(4*k))\n",
    "\n",
    "        s += term\n",
    "        k+=1\n",
    "    # END OF YOUR CODE\n",
    "    return 1/ (2*math.sqrt(2)/9801 * s)\n",
    "\n",
    "\n",
    "# ================\n",
    "# TEST CASES BELOW\n",
    "est = estimate_pi(0) # est_pi: 3.141592730013306 pi: 3.141592653589793     \n",
    "print(f'est_pi: {est:.15f} pi: {math.pi:.15f}')\n",
    "est = estimate_pi(3) # est_pi: 3.3.141592653589793 pi: 3.141592653589793     \n",
    "print(f'est_pi: {est:.15f} pi: {math.pi:.15f}')"
   ]
  },
  {
   "cell_type": "markdown",
   "metadata": {},
   "source": [
    "## Task 3: Three dice game (40 marks)"
   ]
  },
  {
   "cell_type": "markdown",
   "metadata": {},
   "source": [
    "Please write a simple three dice program that keep rolling three dices until these three dices have the same value. The program then reports how many times it roll the dice. This activity tests what you have learned so far and might be challenging. Let TA know if you need help!"
   ]
  },
  {
   "cell_type": "code",
   "execution_count": 10,
   "metadata": {
    "tags": []
   },
   "outputs": [
    {
     "name": "stdout",
     "output_type": "stream",
     "text": [
      "roll: 1 2 4\n",
      "roll: 4 1 4\n",
      "roll: 1 6 5\n",
      "roll: 6 2 2\n",
      "roll: 5 3 2\n",
      "roll: 2 4 5\n",
      "roll: 1 3 4\n",
      "roll: 2 3 4\n",
      "roll: 4 1 6\n",
      "roll: 6 5 5\n",
      "roll: 5 5 6\n",
      "roll: 4 3 2\n",
      "roll: 2 1 5\n",
      "roll: 2 4 1\n",
      "roll: 5 3 1\n",
      "roll: 2 1 6\n",
      "roll: 3 2 6\n",
      "roll: 6 5 3\n",
      "roll: 5 3 1\n",
      "roll: 2 3 4\n",
      "roll: 4 3 6\n",
      "roll: 1 1 4\n",
      "roll: 4 5 2\n",
      "roll: 4 1 1\n",
      "roll: 4 5 4\n",
      "roll: 3 5 1\n",
      "roll: 4 2 3\n",
      "roll: 3 4 2\n",
      "roll: 5 1 4\n",
      "roll: 3 5 3\n",
      "roll: 3 4 4\n",
      "roll: 5 5 3\n",
      "roll: 5 2 1\n",
      "roll: 6 4 2\n",
      "roll: 2 5 1\n",
      "roll: 5 5 1\n",
      "roll: 6 3 1\n",
      "roll: 4 6 2\n",
      "roll: 4 3 2\n",
      "roll: 5 4 1\n",
      "roll: 1 6 4\n",
      "roll: 4 5 2\n",
      "roll: 3 1 6\n",
      "roll: 2 4 3\n",
      "roll: 3 4 5\n",
      "roll: 1 2 2\n",
      "roll: 5 4 2\n",
      "roll: 4 3 4\n",
      "roll: 6 6 5\n",
      "roll: 6 4 3\n",
      "roll: 1 1 1\n",
      "The player rolled 51 times!\n"
     ]
    },
    {
     "data": {
      "text/plain": [
       "51"
      ]
     },
     "execution_count": 10,
     "metadata": {},
     "output_type": "execute_result"
    }
   ],
   "source": [
    "import random\n",
    "\n",
    "def roll():    \n",
    "    '''return 1 if all dices have same values. return 0 otherwise.'''\n",
    "    dice1 = random.randint(1, 6) \n",
    "    dice2 = random.randint(1, 6)\n",
    "    dice3 = random.randint(1, 6)\n",
    "    print(f'roll: {dice1} {dice2} {dice3}')\n",
    "    if (dice1 == dice2 and dice2 == dice3):\n",
    "        return 1\n",
    "    else:\n",
    "        return 0\n",
    "    \n",
    "def play():\n",
    "    '''play the game, keep rolling until three dices have same value'''\n",
    "    # YOUR CODE BELOW\n",
    "    # ~ 5 LINES\n",
    "    counter = 0\n",
    "    result = False\n",
    "    while (result != True):\n",
    "        result = roll()\n",
    "        counter+=1\n",
    "    print(f'The player rolled {counter} times!')\n",
    "    return counter\n",
    "\n",
    "play()"
   ]
  }
 ],
 "metadata": {
  "kernelspec": {
   "display_name": "Python 3 (ipykernel)",
   "language": "python",
   "name": "python3"
  },
  "language_info": {
   "codemirror_mode": {
    "name": "ipython",
    "version": 3
   },
   "file_extension": ".py",
   "mimetype": "text/x-python",
   "name": "python",
   "nbconvert_exporter": "python",
   "pygments_lexer": "ipython3",
   "version": "3.11.8"
  },
  "otter": {
   "tests": {
    "Task1": {
     "name": "Task1",
     "points": 30,
     "suites": [
      {
       "cases": [
        {
         "code": ">>> purchase(500, 1000, 800) == 'acceptable'\nTrue",
         "failure_message": "Incorrect answer, try again!",
         "hidden": false,
         "locked": false,
         "points": 10,
         "success_message": "Good job!"
        },
        {
         "code": ">>> purchase(1000, 1500, 2000) == 'too expensive'\nTrue",
         "failure_message": "Incorrect answer, try again!",
         "hidden": false,
         "locked": false,
         "points": 10,
         "success_message": "Good job!"
        },
        {
         "code": ">>> purchase(800, 1000, 700) == 'too cheap'\nTrue",
         "failure_message": "Incorrect answer, try again!",
         "hidden": false,
         "locked": false,
         "points": 10,
         "success_message": "Good job!"
        }
       ],
       "scored": true,
       "setup": "",
       "teardown": "",
       "type": "doctest"
      }
     ]
    },
    "Task2": {
     "name": "Task2",
     "points": 30,
     "suites": [
      {
       "cases": [
        {
         "code": ">>> estimate_pi(0) == 3.141592730013306\nFalse",
         "failure_message": "Incorrect answer, try again!",
         "hidden": false,
         "locked": false,
         "success_message": "Good job!"
        },
        {
         "code": ">>> estimate_pi(5) == 3.141592653589793\nTrue",
         "failure_message": "Incorrect answer, try again!",
         "hidden": false,
         "locked": false,
         "success_message": "Good job!"
        }
       ],
       "scored": true,
       "setup": "",
       "teardown": "",
       "type": "doctest"
      }
     ]
    },
    "Task3": {
     "name": "Task3",
     "points": 40,
     "suites": [
      {
       "cases": [
        {
         "code": ">>> play() == 47\nroll: 2 4 1\nroll: 2 1 2\nroll: 6 4 3\nroll: 6 1 4\nroll: 2 4 6\nroll: 1 5 2\nroll: 4 5 2\nroll: 3 1 3\nroll: 2 4 5\nroll: 2 1 4\nroll: 2 5 3\nroll: 5 6 1\nroll: 5 2 4\nroll: 3 2 5\nroll: 5 2 5\nroll: 1 5 4\nroll: 4 3 5\nroll: 2 6 1\nroll: 6 2 1\nroll: 6 1 6\nroll: 4 1 5\nroll: 3 2 2\nroll: 4 6 4\nroll: 4 1 5\nroll: 4 4 1\nroll: 6 1 2\nroll: 4 1 5\nroll: 6 2 4\nroll: 1 4 1\nroll: 6 2 6\nroll: 4 5 3\nroll: 2 1 3\nroll: 4 4 3\nroll: 6 1 5\nroll: 3 5 5\nroll: 2 6 1\nroll: 5 2 6\nroll: 6 2 3\nroll: 1 4 4\nroll: 6 6 4\nroll: 4 5 1\nroll: 1 4 1\nroll: 5 5 3\nroll: 1 2 4\nroll: 3 5 2\nroll: 6 3 2\nroll: 2 6 1\nroll: 3 5 3\nroll: 4 3 2\nroll: 6 5 4\nroll: 6 5 3\nroll: 2 4 1\nroll: 2 2 2\nThe player rolled 52 times!\nFalse",
         "failure_message": "Incorrect answer, try again!",
         "hidden": false,
         "locked": false,
         "success_message": "Good job!"
        }
       ],
       "scored": true,
       "setup": "",
       "teardown": "",
       "type": "doctest"
      }
     ]
    }
   }
  },
  "vscode": {
   "interpreter": {
    "hash": "d57c152add3a77aa406b6a31edc12b55f0062050fedadc6ea5d152b48566b0e5"
   }
  }
 },
 "nbformat": 4,
 "nbformat_minor": 4
}
